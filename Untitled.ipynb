{
 "cells": [
  {
   "cell_type": "markdown",
   "id": "8f62ddec",
   "metadata": {},
   "source": [
    "уйцуйц\n",
    "\n",
    "<code>dasdas\n",
    "</code>"
   ]
  },
  {
   "cell_type": "code",
   "execution_count": 4,
   "id": "788cce6c",
   "metadata": {},
   "outputs": [
    {
     "data": {
      "text/html": [
       "Кликни на текст, попаешь на поле ввода<br/><br/>\n",
       "<input id=\"идентификатор\"><label for=\"идентификатор\">Текст</label>\n",
       "<label><input type=\"...\"> Текст</label>\n"
      ],
      "text/plain": [
       "<IPython.core.display.HTML object>"
      ]
     },
     "metadata": {},
     "output_type": "display_data"
    }
   ],
   "source": [
    "%%html\n",
    "Кликни на текст, попаешь на поле ввода<br/><br/>\n",
    "<input id=\"идентификатор\"><label for=\"идентификатор\">Текст</label>\n",
    "<label><input type=\"...\"> Текст</label>\n"
   ]
  },
  {
   "cell_type": "code",
   "execution_count": 5,
   "id": "9c7d50a4",
   "metadata": {},
   "outputs": [
    {
     "name": "stderr",
     "output_type": "stream",
     "text": [
      "UsageError: Cell magic `%%c++` not found.\n"
     ]
    }
   ],
   "source": [
    "%%c++\n",
    "Кликни на текст, попаешь на поле ввода<br/><br/>\n",
    "<input id=\"идентификатор\"><label for=\"идентификатор\">Текст</label>\n",
    "<label><input type=\"...\"> Текст</label>"
   ]
  },
  {
   "cell_type": "code",
   "execution_count": null,
   "id": "43bfd9d3",
   "metadata": {},
   "outputs": [],
   "source": []
  }
 ],
 "metadata": {
  "kernelspec": {
   "display_name": "Python 3 (ipykernel)",
   "language": "python",
   "name": "python3"
  },
  "language_info": {
   "codemirror_mode": {
    "name": "ipython",
    "version": 3
   },
   "file_extension": ".py",
   "mimetype": "text/x-python",
   "name": "python",
   "nbconvert_exporter": "python",
   "pygments_lexer": "ipython3",
   "version": "3.11.4"
  }
 },
 "nbformat": 4,
 "nbformat_minor": 5
}
